{
  "nbformat": 4,
  "nbformat_minor": 0,
  "metadata": {
    "colab": {
      "name": "FinalProject_TwittClassification.ipynb",
      "provenance": [],
      "authorship_tag": "ABX9TyOd5drQSV720tt21gg0mDav",
      "include_colab_link": true
    },
    "kernelspec": {
      "name": "python3",
      "display_name": "Python 3"
    },
    "language_info": {
      "name": "python"
    }
  },
  "cells": [
    {
      "cell_type": "markdown",
      "metadata": {
        "id": "view-in-github",
        "colab_type": "text"
      },
      "source": [
        "<a href=\"https://colab.research.google.com/github/aMurryFly/Text-Classification-AI-Model-on-COVID-19-Tweets/blob/main/FinalProject_TwittClassification.ipynb\" target=\"_parent\"><img src=\"https://colab.research.google.com/assets/colab-badge.svg\" alt=\"Open In Colab\"/></a>"
      ]
    },
    {
      "cell_type": "markdown",
      "metadata": {
        "id": "ea4zDKPJ9Bxk"
      },
      "source": [
        "# Final Project of APIT Course\n",
        "## Data Analysis and Text Classification AI Model on COVID-19 Tweets\n",
        "\n",
        "###(Análisis y Procesamiento Inteligente de textos)\n",
        "\n",
        "**Professor:**\n",
        "- \n",
        "\n",
        "**Students: **\n",
        "- Alfonso Murrieta Villegas\n",
        "- "
      ]
    },
    {
      "cell_type": "markdown",
      "metadata": {
        "id": "XSLPGPVT-B9D"
      },
      "source": [
        "# 0. General Aspects about the project \n"
      ]
    },
    {
      "cell_type": "code",
      "metadata": {
        "id": "uIcS9cXQyNzb"
      },
      "source": [
        ""
      ],
      "execution_count": null,
      "outputs": []
    },
    {
      "cell_type": "markdown",
      "metadata": {
        "id": "wsTURXnu-IhL"
      },
      "source": [
        "# 1. Data Analysis"
      ]
    },
    {
      "cell_type": "code",
      "metadata": {
        "id": "7CZUSXrs-SJq"
      },
      "source": [
        ""
      ],
      "execution_count": null,
      "outputs": []
    },
    {
      "cell_type": "markdown",
      "metadata": {
        "id": "ItTYHdZa-LVy"
      },
      "source": [
        "# 2. Building a AI Model for clasification\n",
        " "
      ]
    }
  ]
}